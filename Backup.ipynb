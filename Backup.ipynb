{
 "cells": [
  {
   "cell_type": "markdown",
   "id": "e31afd44",
   "metadata": {},
   "source": [
    "# FIX: DELETE EMPTY FOLDERS FROM THE DESTINATION PATH!\n",
    "### Add an interface"
   ]
  },
  {
   "cell_type": "code",
   "execution_count": 1,
   "id": "78fd9563",
   "metadata": {},
   "outputs": [],
   "source": [
    "import os\n",
    "import shutil\n",
    "from tqdm.auto import tqdm\n",
    "from datetime import datetime\n",
    "import json\n",
    "from html import escape\n",
    "\n",
    "def backup(source_paths, destination_path, start = -1):\n",
    "    # Ensure the destination path exists\n",
    "    if not os.path.exists(destination_path):\n",
    "        os.makedirs(destination_path)\n",
    "        print('Destination path has been created')\n",
    "\n",
    "    # Initialize counters\n",
    "    new_copied_count, replaced_count, skipped_count, deleted_count = 0, 0, 0, 0\n",
    "\n",
    "    # Initialize the overall progress bar\n",
    "    total_files = 0\n",
    "    for i in range(len(source_paths)):\n",
    "        total_files += sum(len(files) for _, _, files in os.walk(source_paths[i]))\n",
    "    overall_pbar = tqdm(total=total_files, desc='Overall Progress')\n",
    "\n",
    "    # Iterate through source paths\n",
    "    for source_path in source_paths:\n",
    "        # Get the base directory name from the source path\n",
    "        base_dir = os.path.basename(os.path.normpath(source_path))\n",
    "\n",
    "        # Set up the destination path for the current source\n",
    "        destination_dir = os.path.join(destination_path, base_dir)\n",
    "\n",
    "        # If the destination path doesn't exist, create it\n",
    "        if not os.path.exists(destination_dir):\n",
    "            os.makedirs(destination_dir)\n",
    "\n",
    "        # Iterate through files and directories in the source path\n",
    "        for root, dirs, files in os.walk(source_path):\n",
    "            # Create the corresponding directory structure in the destination path\n",
    "            relative_path = os.path.relpath(root, source_path)\n",
    "            destination_root = os.path.join(destination_dir, relative_path)\n",
    "            os.makedirs(destination_root, exist_ok=True)\n",
    "            overall_pbar.set_description(f\"Processing {root}\")\n",
    "\n",
    "            # Copy new or modified files to the destination directory\n",
    "            for file in files:   # Skip a few if the last update has failed to complete\n",
    "                if overall_pbar.n < start:\n",
    "                    pass\n",
    "                else:\n",
    "                    source_file = os.path.join(root, file)\n",
    "                    destination_file = os.path.join(destination_root, file)\n",
    "\n",
    "                    # Copy the file if it's new or modified (based on size)\n",
    "                    if not os.path.exists(destination_file) or os.path.getsize(source_file) != os.path.getsize(destination_file):\n",
    "                        try:\n",
    "                            shutil.copy2(source_file, destination_file)\n",
    "                        except Exception as e:\n",
    "                            print(f'{e}: {source_file}')\n",
    "                        if not os.path.exists(destination_file):\n",
    "                            new_copied_count += 1\n",
    "                        else:\n",
    "                            replaced_count += 1\n",
    "    \n",
    "                    else:\n",
    "                        skipped_count += 1  # Increment for each file (including folders)\n",
    "                    overall_pbar.update(1)\n",
    "\n",
    "        # Remove deleted files from the destination directory\n",
    "        for root, dirs, files in os.walk(destination_dir):\n",
    "            for file in files:\n",
    "                source_file = os.path.join(source_path, os.path.relpath(root, destination_dir), file)\n",
    "                destination_file = os.path.join(root, file)\n",
    "\n",
    "                # Delete the file if it's not present in the source path\n",
    "                if not os.path.exists(source_file):\n",
    "                    try:\n",
    "                        os.remove(destination_file)\n",
    "                        deleted_count += 1\n",
    "                    except Exception as e:\n",
    "                        print(f'{e}: {source_file}')\n",
    "                        \n",
    "    # Close the overall progress bar\n",
    "    overall_pbar.close()\n",
    "    \n",
    "    # Remove empty directories from the destination directory\n",
    "    for root, dirs, files in os.walk(destination_dir, topdown=False):\n",
    "        for dir in dirs:\n",
    "            dir_path = os.path.join(root, dir)\n",
    "            if not os.listdir(dir_path):  # Check if the directory is empty\n",
    "                os.rmdir(dir_path)\n",
    "                print(f'Deleted an empty folder: {dir_path}')\n",
    "    \n",
    "    return new_copied_count, replaced_count, skipped_count, deleted_count\n",
    "\n",
    "script = r'C:\\Users\\avivl\\PyScripts\\Backup.ipynb'"
   ]
  },
  {
   "cell_type": "code",
   "execution_count": 2,
   "id": "680d44b2",
   "metadata": {},
   "outputs": [
    {
     "name": "stdout",
     "output_type": "stream",
     "text": [
      "Bookmarks converted to HTML. Output saved to D:\\גיבוי\\מועדפים ישן\\Chrome Bookmarks 2024-03-02.html\n"
     ]
    }
   ],
   "source": [
    "def convert_bookmarks_to_html(bookmarks, output_file):\n",
    "    with open(output_file, 'w', encoding='utf-8') as html_file:\n",
    "        html_file.write('<!DOCTYPE html>\\n')\n",
    "        html_file.write('<html>\\n<head>\\n<title>Chrome Bookmarks</title>\\n</head>\\n<body>\\n')\n",
    "        html_file.write('<h1>Google Chrome Bookmarks</h1>\\n<ul>\\n')\n",
    "\n",
    "        for item in bookmarks['roots']['bookmark_bar']['children']:\n",
    "            write_bookmark_item(html_file, item)\n",
    "\n",
    "        html_file.write('</ul>\\n</body>\\n</html>\\n')\n",
    "\n",
    "def write_bookmark_item(html_file, item, indentation=2):\n",
    "    url = item.get('url', '')\n",
    "    title = escape(item.get('name', 'Untitled'))\n",
    "\n",
    "    html_file.write(' ' * indentation)\n",
    "    if url:\n",
    "        html_file.write(f'<li><a href=\"{url}\" target=\"_blank\">{title}</a></li>\\n')\n",
    "    else:\n",
    "        html_file.write(f'<li>{title}</li>\\n')\n",
    "\n",
    "    if 'children' in item:\n",
    "        html_file.write(' ' * (indentation + 2))\n",
    "        html_file.write('<ul>\\n')\n",
    "        for child_item in item['children']:\n",
    "            write_bookmark_item(html_file, child_item, indentation + 4)\n",
    "        html_file.write(' ' * (indentation + 2))\n",
    "        html_file.write('</ul>\\n')\n",
    "\n",
    "chrome_bookmarks_path = r'C:\\Users\\avivl\\AppData\\Local\\Google\\Chrome\\User Data\\Default\\Bookmarks'  # Update with your Chrome profile path\n",
    "output_html_file = rf'D:\\גיבוי\\מועדפים ישן\\Chrome Bookmarks {str(datetime.today()).split()[0]}.html'\n",
    "\n",
    "with open(chrome_bookmarks_path, 'r', encoding='utf-8') as bookmarks_file:\n",
    "    bookmarks_data = json.load(bookmarks_file)\n",
    "\n",
    "convert_bookmarks_to_html(bookmarks_data, output_html_file)\n",
    "print(f'Bookmarks converted to HTML. Output saved to {output_html_file}')"
   ]
  },
  {
   "cell_type": "markdown",
   "id": "f54e72bb",
   "metadata": {},
   "source": [
    "# Weekly Backup"
   ]
  },
  {
   "cell_type": "code",
   "execution_count": 3,
   "id": "fa290566",
   "metadata": {},
   "outputs": [],
   "source": [
    "source_paths = [r'C:\\המדיה שלי', r'C:\\הקבצים שלי', r'C:\\Users\\avivl\\Desktop']\n",
    "destination_path = r'D:\\גיבוי'"
   ]
  },
  {
   "cell_type": "markdown",
   "id": "298099f6",
   "metadata": {},
   "source": [
    "# Backup to the Backup"
   ]
  },
  {
   "cell_type": "code",
   "execution_count": 10,
   "id": "0865055a",
   "metadata": {},
   "outputs": [],
   "source": [
    "#source_paths = [r'D:\\גיבוי', r'D:\\קבוע', r'D:\\סרטי קולנוע\\אא לא ראיתי']\n",
    "#destination_path = r'E:'"
   ]
  },
  {
   "cell_type": "code",
   "execution_count": null,
   "id": "2034e6c0",
   "metadata": {},
   "outputs": [],
   "source": [
    "# Movies backup\n",
    "#source_paths = ????\n",
    "#destination_path = ????"
   ]
  },
  {
   "cell_type": "markdown",
   "id": "8604c6e4",
   "metadata": {},
   "source": [
    "# Run!"
   ]
  },
  {
   "cell_type": "code",
   "execution_count": 4,
   "id": "922f0ded",
   "metadata": {},
   "outputs": [
    {
     "name": "stdout",
     "output_type": "stream",
     "text": [
      "Before we start:\n",
      "7582 7582 Source - D:\\גיבוי\\המדיה שלי\n",
      "524 556 Source - D:\\גיבוי\\הקבצים שלי\n",
      "486 489 Source - D:\\גיבוי\\Desktop\n"
     ]
    }
   ],
   "source": [
    "print('Before we start:')\n",
    "destination_list = [destination_path+\"\\\\\"+folder.split(\"\\\\\")[-1] for folder in source_paths]\n",
    "for i in range(len(source_paths)):\n",
    "    print(sum(len(files) for _, _, files in os.walk(source_paths[i])), sum(len(files) for _, _, files in os.walk(destination_list[i])), 'Source - ' + destination_list[i])"
   ]
  },
  {
   "cell_type": "code",
   "execution_count": 5,
   "id": "9b241415",
   "metadata": {},
   "outputs": [
    {
     "data": {
      "application/vnd.jupyter.widget-view+json": {
       "model_id": "3e060a5c517f41d8875e1b7522d6ba30",
       "version_major": 2,
       "version_minor": 0
      },
      "text/plain": [
       "Overall Progress:   0%|          | 0/8592 [00:00<?, ?it/s]"
      ]
     },
     "metadata": {},
     "output_type": "display_data"
    },
    {
     "name": "stdout",
     "output_type": "stream",
     "text": [
      "[Errno 13] Permission denied: 'C:\\\\Users\\\\avivl\\\\Desktop\\\\letter_tv010200000000988357.pdf': C:\\Users\\avivl\\Desktop\\letter_tv010200000000988357.pdf\n",
      "Deleted an empty folder: D:\\גיבוי\\Desktop\\תוכנות\\mp3DC229\\mpg123-1.26rc2\n",
      "Backup Completed: 1 Copied, 4 Replaced, 8587 Skipped & 40 Deleted! \n",
      " Compare:\n",
      "7582 7582 D:\\גיבוי\\המדיה שלי\n",
      "524 524 D:\\גיבוי\\הקבצים שלי\n",
      "486 485 D:\\גיבוי\\Desktop\n",
      "The updated script has been copied and the backup has been completed!\n"
     ]
    }
   ],
   "source": [
    "new_copied_count, replaced_count, skipped_count, deleted_count = backup(source_paths, destination_path)\n",
    "print(f\"Backup Completed: {new_copied_count} Copied, {replaced_count} Replaced, {skipped_count} Skipped & {deleted_count} Deleted! \\n Compare:\")\n",
    "destination_list = [destination_path+\"\\\\\"+folder.split(\"\\\\\")[-1] for folder in source_paths]\n",
    "for i in range(len(source_paths)):\n",
    "    print(sum(len(files) for _, _, files in os.walk(source_paths[i])), sum(len(files) for _, _, files in os.walk(destination_list[i])), destination_list[i])\n",
    "\n",
    "shutil.copy2(script, destination_path+'\\Backup.ipynb')\n",
    "print('The updated script has been copied and the backup has been completed!')"
   ]
  },
  {
   "cell_type": "markdown",
   "id": "4886dde7",
   "metadata": {},
   "source": [
    "## Remember to add manually: OneNote!"
   ]
  }
 ],
 "metadata": {
  "kernelspec": {
   "display_name": "Python 3 (ipykernel)",
   "language": "python",
   "name": "python3"
  },
  "language_info": {
   "codemirror_mode": {
    "name": "ipython",
    "version": 3
   },
   "file_extension": ".py",
   "mimetype": "text/x-python",
   "name": "python",
   "nbconvert_exporter": "python",
   "pygments_lexer": "ipython3",
   "version": "3.9.13"
  }
 },
 "nbformat": 4,
 "nbformat_minor": 5
}
